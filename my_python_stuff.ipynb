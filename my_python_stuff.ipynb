{
 "cells": [
  {
   "cell_type": "code",
   "execution_count": 1,
   "id": "235e683f-ad62-4323-9840-d7fdc6ec4e9f",
   "metadata": {},
   "outputs": [
    {
     "name": "stdout",
     "output_type": "stream",
     "text": [
      "Hello world\n"
     ]
    }
   ],
   "source": [
    "print(\"Hello world\")"
   ]
  },
  {
   "cell_type": "code",
   "execution_count": 3,
   "id": "1e368670-4f49-48d5-a40c-947bd6369777",
   "metadata": {},
   "outputs": [
    {
     "name": "stdout",
     "output_type": "stream",
     "text": [
      "5\n"
     ]
    }
   ],
   "source": [
    "a=5\n",
    "print(a)"
   ]
  },
  {
   "cell_type": "code",
   "execution_count": null,
   "id": "4cf898a1-4e35-4b2b-ac6e-54fd9e8a0a18",
   "metadata": {},
   "outputs": [],
   "source": []
  },
  {
   "cell_type": "code",
   "execution_count": null,
   "id": "54b86052-e04b-429b-ba40-8f79332bd02f",
   "metadata": {},
   "outputs": [],
   "source": []
  },
  {
   "cell_type": "code",
   "execution_count": 9,
   "id": "7f467729-fcc9-447d-b4ff-b23246732226",
   "metadata": {},
   "outputs": [
    {
     "name": "stdout",
     "output_type": "stream",
     "text": [
      "\n",
      "Here is a list of the Python keywords.  Enter any keyword to get more help.\n",
      "\n",
      "False               class               from                or\n",
      "None                continue            global              pass\n",
      "True                def                 if                  raise\n",
      "and                 del                 import              return\n",
      "as                  elif                in                  try\n",
      "assert              else                is                  while\n",
      "async               except              lambda              with\n",
      "await               finally             nonlocal            yield\n",
      "break               for                 not                 \n",
      "\n"
     ]
    }
   ],
   "source": [
    "help(\"keywords\")"
   ]
  },
  {
   "cell_type": "code",
   "execution_count": 11,
   "id": "6b4f09d2-643e-4074-8e00-6572cf031911",
   "metadata": {},
   "outputs": [
    {
     "name": "stdout",
     "output_type": "stream",
     "text": [
      "24\n"
     ]
    }
   ],
   "source": [
    "#Integers\n",
    "number = 24\n",
    "print(number)"
   ]
  },
  {
   "cell_type": "code",
   "execution_count": 13,
   "id": "371251ff-c286-47cd-bb2a-4beca8c1a88c",
   "metadata": {},
   "outputs": [
    {
     "name": "stdout",
     "output_type": "stream",
     "text": [
      "<class 'int'>\n"
     ]
    }
   ],
   "source": [
    "#type ( type is used to find what type of data type )\n",
    "print(type(number))"
   ]
  },
  {
   "cell_type": "code",
   "execution_count": 15,
   "id": "747484ef-187d-4057-a473-00f4bf97d892",
   "metadata": {},
   "outputs": [
    {
     "ename": "NameError",
     "evalue": "name 'keywords' is not defined",
     "output_type": "error",
     "traceback": [
      "\u001b[1;31m---------------------------------------------------------------------------\u001b[0m",
      "\u001b[1;31mNameError\u001b[0m                                 Traceback (most recent call last)",
      "Cell \u001b[1;32mIn[15], line 1\u001b[0m\n\u001b[1;32m----> 1\u001b[0m \u001b[38;5;28mprint\u001b[39m(\u001b[38;5;28mtype\u001b[39m(keywords))\n",
      "\u001b[1;31mNameError\u001b[0m: name 'keywords' is not defined"
     ]
    }
   ],
   "source": [
    "print(type(keywords))"
   ]
  },
  {
   "cell_type": "code",
   "execution_count": 18,
   "id": "15217201-4732-4ef7-a0b5-8319224edff7",
   "metadata": {},
   "outputs": [
    {
     "name": "stdout",
     "output_type": "stream",
     "text": [
      "\n",
      "This is a multiline string\n"
     ]
    }
   ],
   "source": [
    "m=\"\"\"\n",
    "This is a multiline string\"\"\"\n",
    "print(m)\n"
   ]
  },
  {
   "cell_type": "code",
   "execution_count": null,
   "id": "83e166cd-2245-4e9b-91a8-8aa402e143f4",
   "metadata": {},
   "outputs": [],
   "source": []
  },
  {
   "cell_type": "code",
   "execution_count": null,
   "id": "1e0fd05e-ccdf-4d73-bc69-4e3894d33cb8",
   "metadata": {},
   "outputs": [],
   "source": []
  },
  {
   "cell_type": "code",
   "execution_count": 30,
   "id": "0f76299f-a1ed-4d81-bf00-513ae3781e7a",
   "metadata": {},
   "outputs": [
    {
     "name": "stdin",
     "output_type": "stream",
     "text": [
      "Enter your name Vishnu\n",
      "Enter your password 1\n"
     ]
    },
    {
     "name": "stdout",
     "output_type": "stream",
     "text": [
      "try again\n"
     ]
    },
    {
     "name": "stdin",
     "output_type": "stream",
     "text": [
      "Enter your name Vishnu\n",
      "Enter your password 123\n"
     ]
    }
   ],
   "source": [
    "name = input(\"Enter your name\")\n",
    "password = input(\"Enter your password\")\n",
    "if name == \"Vishnu\" and password == \"12345\":\n",
    "    print(\"congrats\")\n",
    "else:\n",
    "    \n",
    "    print(\"try again\")\n",
    "    name = input(\"Enter your name\")\n",
    "    password = input(\"Enter your password\")"
   ]
  },
  {
   "cell_type": "code",
   "execution_count": 32,
   "id": "6e8da20a-20f9-4251-9003-4a7cc982ffff",
   "metadata": {},
   "outputs": [
    {
     "name": "stdout",
     "output_type": "stream",
     "text": [
      "Vishnu kanth turumella 25 2.4 True False 1234\n"
     ]
    }
   ],
   "source": [
    "print(\"Vishnu\",\"kanth\",\"turumella\",25,2.4,True,False,1234)"
   ]
  },
  {
   "cell_type": "code",
   "execution_count": 34,
   "id": "d9bd14b5-aaab-40ae-a235-424c282f75a7",
   "metadata": {},
   "outputs": [
    {
     "data": {
      "text/plain": [
       "\u001b[1;31mSignature:\u001b[0m \u001b[0mprint\u001b[0m\u001b[1;33m(\u001b[0m\u001b[1;33m*\u001b[0m\u001b[0margs\u001b[0m\u001b[1;33m,\u001b[0m \u001b[0msep\u001b[0m\u001b[1;33m=\u001b[0m\u001b[1;34m' '\u001b[0m\u001b[1;33m,\u001b[0m \u001b[0mend\u001b[0m\u001b[1;33m=\u001b[0m\u001b[1;34m'\\n'\u001b[0m\u001b[1;33m,\u001b[0m \u001b[0mfile\u001b[0m\u001b[1;33m=\u001b[0m\u001b[1;32mNone\u001b[0m\u001b[1;33m,\u001b[0m \u001b[0mflush\u001b[0m\u001b[1;33m=\u001b[0m\u001b[1;32mFalse\u001b[0m\u001b[1;33m)\u001b[0m\u001b[1;33m\u001b[0m\u001b[1;33m\u001b[0m\u001b[0m\n",
       "\u001b[1;31mDocstring:\u001b[0m\n",
       "Prints the values to a stream, or to sys.stdout by default.\n",
       "\n",
       "sep\n",
       "  string inserted between values, default a space.\n",
       "end\n",
       "  string appended after the last value, default a newline.\n",
       "file\n",
       "  a file-like object (stream); defaults to the current sys.stdout.\n",
       "flush\n",
       "  whether to forcibly flush the stream.\n",
       "\u001b[1;31mType:\u001b[0m      builtin_function_or_method"
      ]
     },
     "metadata": {},
     "output_type": "display_data"
    }
   ],
   "source": [
    "print?\n"
   ]
  },
  {
   "cell_type": "code",
   "execution_count": 38,
   "id": "da7ca8dd-e4cc-4b2d-bdc4-2fb47ed03601",
   "metadata": {},
   "outputs": [
    {
     "name": "stdout",
     "output_type": "stream",
     "text": [
      "Vishnu\n",
      "kanth\n",
      "turumella\n",
      "25\n",
      "2.4\n",
      "True\n",
      "False\n",
      "1234\n"
     ]
    }
   ],
   "source": [
    "print(\"Vishnu\",\"kanth\",\"turumella\",25,2.4,True,False,1234,sep=\"\\n\")\n"
   ]
  },
  {
   "cell_type": "code",
   "execution_count": 40,
   "id": "5b022d33-d59b-4521-9f58-4798e0bf9f79",
   "metadata": {},
   "outputs": [
    {
     "name": "stdout",
     "output_type": "stream",
     "text": [
      "11\n"
     ]
    }
   ],
   "source": [
    "#addition\n",
    "a=5\n",
    "b=6\n",
    "c=a+b\n",
    "print(c)"
   ]
  },
  {
   "cell_type": "code",
   "execution_count": 50,
   "id": "4cc442d4-7706-450e-83fc-8bb69b14134a",
   "metadata": {},
   "outputs": [
    {
     "name": "stdout",
     "output_type": "stream",
     "text": [
      "18\n",
      "3.5714285714285716\n",
      "4\n",
      "175\n",
      "3\n",
      "6103515625\n"
     ]
    }
   ],
   "source": [
    "a=25\n",
    "b=7\n",
    "#sub\n",
    "d= a-b\n",
    "print(d)\n",
    "#division\n",
    "e=a/b\n",
    "print(e)\n",
    "#mod\n",
    "f= a% b\n",
    "print(f)\n",
    "#multiplication\n",
    "g= a*b\n",
    "print(g)\n",
    "#floor division\n",
    "h= a//b\n",
    "print(h)\n",
    "#to the power\n",
    "i= a** b\n",
    "print(i)"
   ]
  },
  {
   "cell_type": "code",
   "execution_count": 8,
   "id": "0c97b3c0-87d6-44c6-b5ba-ec22740a4c54",
   "metadata": {},
   "outputs": [
    {
     "name": "stdout",
     "output_type": "stream",
     "text": [
      "9\n"
     ]
    }
   ],
   "source": [
    "#counter is an integer variable that allows you to count. Its initialize value is zero\n",
    "\n"
   ]
  },
  {
   "cell_type": "code",
   "execution_count": 14,
   "id": "d8bda483-ca0b-4390-9886-49ea7f3bd512",
   "metadata": {},
   "outputs": [
    {
     "name": "stdout",
     "output_type": "stream",
     "text": [
      "4\n"
     ]
    }
   ],
   "source": [
    "str_counter = 0\n",
    "for i in (1,3,4,\"vishnu\",\"kanth\",\"turumella\",\"5.4\",2323,True):\n",
    "    if isinstance(i,str): # isinstance is an in built class which allows us to show interest in particular thing \n",
    "        #Syntax isinstance(item,object)\n",
    "        str_counter += 1\n",
    "\n",
    "print(str_counter)\n"
   ]
  },
  {
   "cell_type": "code",
   "execution_count": 12,
   "id": "e0e427f7-aac7-4662-b997-40e81b058801",
   "metadata": {},
   "outputs": [
    {
     "name": "stdout",
     "output_type": "stream",
     "text": [
      "1\n"
     ]
    }
   ],
   "source": [
    "str_counter = 0\n",
    "for i in (1,3,4,\"vishnu\",\"kanth\",\"turumella\",\"5.4\",2323,True):\n",
    "    if isinstance(i,bool):\n",
    "        str_counter += 1\n",
    "\n",
    "print(str_counter)"
   ]
  },
  {
   "cell_type": "code",
   "execution_count": 16,
   "id": "c7fd0845-c4ae-4103-8ae1-7b4829363570",
   "metadata": {},
   "outputs": [
    {
     "name": "stdout",
     "output_type": "stream",
     "text": [
      "140725745953336 140725745953336\n"
     ]
    }
   ],
   "source": [
    "a= 5\n",
    "b=5\n",
    "print(id(a), id(b))"
   ]
  },
  {
   "cell_type": "code",
   "execution_count": 18,
   "id": "9fd8c55b-c82f-413f-b25c-0965e751f01e",
   "metadata": {},
   "outputs": [
    {
     "data": {
      "text/plain": [
       "True"
      ]
     },
     "execution_count": 18,
     "metadata": {},
     "output_type": "execute_result"
    }
   ],
   "source": [
    "a is b"
   ]
  },
  {
   "cell_type": "code",
   "execution_count": 20,
   "id": "cad134cd-3345-4c26-8bfe-1ecc3d29420b",
   "metadata": {},
   "outputs": [
    {
     "data": {
      "text/plain": [
       "False"
      ]
     },
     "execution_count": 20,
     "metadata": {},
     "output_type": "execute_result"
    }
   ],
   "source": [
    "a= 5\n",
    "b=6\n",
    "a is b"
   ]
  },
  {
   "cell_type": "code",
   "execution_count": 22,
   "id": "1a40e38a-f00e-449e-a4e5-bd9e977598f0",
   "metadata": {},
   "outputs": [
    {
     "name": "stdin",
     "output_type": "stream",
     "text": [
      " Vishnu\n",
      " Kanth\n"
     ]
    },
    {
     "name": "stdout",
     "output_type": "stream",
     "text": [
      "VishnuKanth\n"
     ]
    }
   ],
   "source": [
    "A = input()\n",
    "B = input()\n",
    "String_concat = A + B\n",
    "print(String_concat)"
   ]
  },
  {
   "cell_type": "code",
   "execution_count": 1,
   "id": "1058ff4a-92ab-4b36-9b68-127c7d525bfa",
   "metadata": {},
   "outputs": [
    {
     "data": {
      "text/plain": [
       "[7, 4, 1, 6, 5, 3, 8, 2]"
      ]
     },
     "execution_count": 1,
     "metadata": {},
     "output_type": "execute_result"
    }
   ],
   "source": [
    "from random import shuffle\n",
    "mylist =[1,2,3,4,5,6,7,8]\n",
    "shuffle(mylist)\n",
    "mylist"
   ]
  },
  {
   "cell_type": "code",
   "execution_count": 3,
   "id": "711b5b29-3c2a-43f2-abf2-be3a317bac3a",
   "metadata": {},
   "outputs": [
    {
     "data": {
      "text/plain": [
       "[7, 4, 1, 6, 5, 3, 8, 2]"
      ]
     },
     "execution_count": 3,
     "metadata": {},
     "output_type": "execute_result"
    }
   ],
   "source": [
    "mylist"
   ]
  },
  {
   "cell_type": "code",
   "execution_count": 5,
   "id": "e82c0afe-d6a9-42e4-a7cb-3f32c0629ed1",
   "metadata": {},
   "outputs": [
    {
     "data": {
      "text/plain": [
       "82"
      ]
     },
     "execution_count": 5,
     "metadata": {},
     "output_type": "execute_result"
    }
   ],
   "source": [
    "from random import randint\n",
    "randint(0,100)"
   ]
  },
  {
   "cell_type": "code",
   "execution_count": 7,
   "id": "b3a715df-241b-4c44-b6f8-4fd98b83b91e",
   "metadata": {},
   "outputs": [
    {
     "data": {
      "text/plain": [
       "8"
      ]
     },
     "execution_count": 7,
     "metadata": {},
     "output_type": "execute_result"
    }
   ],
   "source": [
    "randint(0,12)"
   ]
  },
  {
   "cell_type": "code",
   "execution_count": 9,
   "id": "b40dfddd-3199-40bb-ac61-9774712ea51a",
   "metadata": {},
   "outputs": [
    {
     "name": "stdin",
     "output_type": "stream",
     "text": [
      "enter a number 50\n"
     ]
    },
    {
     "data": {
      "text/plain": [
       "'50'"
      ]
     },
     "execution_count": 9,
     "metadata": {},
     "output_type": "execute_result"
    }
   ],
   "source": [
    "input('enter a number')"
   ]
  },
  {
   "cell_type": "code",
   "execution_count": 13,
   "id": "67152c82-fbb7-4360-b51b-888fd28f328d",
   "metadata": {},
   "outputs": [
    {
     "name": "stdout",
     "output_type": "stream",
     "text": [
      "the\n",
      "that\n",
      "this\n"
     ]
    }
   ],
   "source": [
    "st = 'Print only the words that start with s in this sentence'\n",
    "\n",
    "for word in st.split():\n",
    "    if word[0] == 't':\n",
    "        print(word)\n",
    "\n"
   ]
  },
  {
   "cell_type": "code",
   "execution_count": 15,
   "id": "8a613925-de46-40ef-ae21-fae1246303dd",
   "metadata": {},
   "outputs": [
    {
     "data": {
      "text/plain": [
       "[0, 2, 4, 6, 8, 10]"
      ]
     },
     "execution_count": 15,
     "metadata": {},
     "output_type": "execute_result"
    }
   ],
   "source": [
    "list(range(0,11,2))"
   ]
  },
  {
   "cell_type": "code",
   "execution_count": 17,
   "id": "9e70ad8a-e01c-4394-9a3d-449ffd4295a5",
   "metadata": {},
   "outputs": [
    {
     "data": {
      "text/plain": [
       "[3, 6, 9, 12, 15, 18, 21, 24, 27, 30, 33, 36, 39, 42, 45, 48]"
      ]
     },
     "execution_count": 17,
     "metadata": {},
     "output_type": "execute_result"
    }
   ],
   "source": [
    "[x for x in range(1,51) if x%3 == 0]\n"
   ]
  },
  {
   "cell_type": "code",
   "execution_count": 19,
   "id": "cb64c5ad-9714-4a3b-b580-c3c4163ea3b8",
   "metadata": {},
   "outputs": [
    {
     "name": "stdout",
     "output_type": "stream",
     "text": [
      "only length is even\n",
      "that length is even\n",
      "with length is even\n",
      "in length is even\n",
      "this length is even\n",
      "sentence length is even\n"
     ]
    }
   ],
   "source": [
    "st = 'Print only the words that start with s in this sentence'\n",
    "\n",
    "for word in st.split():\n",
    "    if len(word)%2 ==0:\n",
    "        print(word + \" length is even\")"
   ]
  },
  {
   "cell_type": "code",
   "execution_count": 27,
   "id": "6acdd824-9476-456b-a341-93caac10217a",
   "metadata": {},
   "outputs": [
    {
     "name": "stdout",
     "output_type": "stream",
     "text": [
      "1\n",
      "2\n",
      "Fizz\n",
      "4\n",
      "Buzz\n",
      "Fizz\n",
      "7\n",
      "8\n",
      "Fizz\n",
      "Buzz\n",
      "11\n",
      "Fizz\n",
      "13\n",
      "14\n",
      "FizzBuzz\n",
      "16\n",
      "17\n",
      "Fizz\n",
      "19\n",
      "Buzz\n",
      "Fizz\n",
      "22\n",
      "23\n",
      "Fizz\n",
      "Buzz\n",
      "26\n",
      "Fizz\n",
      "28\n",
      "29\n",
      "FizzBuzz\n",
      "31\n",
      "32\n",
      "Fizz\n",
      "34\n",
      "Buzz\n",
      "Fizz\n",
      "37\n",
      "38\n",
      "Fizz\n",
      "Buzz\n",
      "41\n",
      "Fizz\n",
      "43\n",
      "44\n",
      "FizzBuzz\n",
      "46\n",
      "47\n",
      "Fizz\n",
      "49\n",
      "Buzz\n",
      "Fizz\n",
      "52\n",
      "53\n",
      "Fizz\n",
      "Buzz\n",
      "56\n",
      "Fizz\n",
      "58\n",
      "59\n",
      "FizzBuzz\n",
      "61\n",
      "62\n",
      "Fizz\n",
      "64\n",
      "Buzz\n",
      "Fizz\n",
      "67\n",
      "68\n",
      "Fizz\n",
      "Buzz\n",
      "71\n",
      "Fizz\n",
      "73\n",
      "74\n",
      "FizzBuzz\n",
      "76\n",
      "77\n",
      "Fizz\n",
      "79\n",
      "Buzz\n",
      "Fizz\n",
      "82\n",
      "83\n",
      "Fizz\n",
      "Buzz\n",
      "86\n",
      "Fizz\n",
      "88\n",
      "89\n",
      "FizzBuzz\n",
      "91\n",
      "92\n",
      "Fizz\n",
      "94\n",
      "Buzz\n",
      "Fizz\n",
      "97\n",
      "98\n",
      "Fizz\n",
      "Buzz\n"
     ]
    }
   ],
   "source": [
    "for num in range(1,101):\n",
    "    if num % 3 ==0 and num % 5 ==0:\n",
    "        print(\"FizzBuzz\")\n",
    "    elif num % 5 ==0:\n",
    "        print(\"Buzz\")\n",
    "    elif num%3 ==0:\n",
    "        print(\"Fizz\")\n",
    "    else:\n",
    "        print(num)"
   ]
  },
  {
   "cell_type": "code",
   "execution_count": 33,
   "id": "1eed8449-1348-4e5f-bb60-9083066d9e3d",
   "metadata": {},
   "outputs": [
    {
     "name": "stdout",
     "output_type": "stream",
     "text": [
      "start\n",
      "s\n",
      "sentence\n"
     ]
    }
   ],
   "source": [
    "st = 'Print only the words that start with s in this sentence'\n",
    "for word in st.split():\n",
    "    if word[0] ==\"s\":\n",
    "        print(word)"
   ]
  },
  {
   "cell_type": "code",
   "execution_count": 37,
   "id": "af8b8aea-6273-4ea3-828f-a9551341740a",
   "metadata": {},
   "outputs": [
    {
     "name": "stdout",
     "output_type": "stream",
     "text": [
      "She\n",
      "sells\n",
      "sea\n",
      "shells\n",
      "shore\n"
     ]
    }
   ],
   "source": [
    "sentence = \"She sells sea shells on the shore\"\n",
    "for word in sentence.split():\n",
    "    if word.lower()[0]==\"s\":\n",
    "        print(word)"
   ]
  },
  {
   "cell_type": "code",
   "execution_count": 39,
   "id": "30849de8-bcc3-42b7-9558-20c36ae687b9",
   "metadata": {},
   "outputs": [
    {
     "name": "stdout",
     "output_type": "stream",
     "text": [
      "Python\n",
      "programming\n",
      "educational\n"
     ]
    }
   ],
   "source": [
    "text = \"Python programming is fun and educational\"\n",
    "for word in text.split():\n",
    "    if len(word) > 5:\n",
    "        print(word)"
   ]
  },
  {
   "cell_type": "code",
   "execution_count": 41,
   "id": "0188b0a8-95c2-4f79-a95c-0663fb38c67e",
   "metadata": {},
   "outputs": [
    {
     "name": "stdout",
     "output_type": "stream",
     "text": [
      "123\n",
      "456\n",
      "789\n"
     ]
    }
   ],
   "source": [
    "data = \"The order numbers are 123 456 789 and code ABC123\"\n",
    "for word in data.split():\n",
    "    if word.isdigit():\n",
    "        print(word)"
   ]
  },
  {
   "cell_type": "code",
   "execution_count": 43,
   "id": "6eda7c21-04ba-4ca4-8e9b-e8bb6434ea63",
   "metadata": {},
   "outputs": [
    {
     "data": {
      "text/plain": [
       "range(0, 11, 2)"
      ]
     },
     "execution_count": 43,
     "metadata": {},
     "output_type": "execute_result"
    }
   ],
   "source": [
    "range(0,11,2)"
   ]
  },
  {
   "cell_type": "code",
   "execution_count": 45,
   "id": "a4ef4f60-c48a-42e1-ab86-ed7235a52cc1",
   "metadata": {},
   "outputs": [
    {
     "name": "stdout",
     "output_type": "stream",
     "text": [
      "range(0, 11, 2)\n"
     ]
    }
   ],
   "source": [
    "print(range(0,11,2))"
   ]
  },
  {
   "cell_type": "code",
   "execution_count": 47,
   "id": "024cdaea-3ee6-4a2c-9400-2162c5f44d8d",
   "metadata": {},
   "outputs": [
    {
     "data": {
      "text/plain": [
       "[0, 2, 4, 6, 8, 10]"
      ]
     },
     "execution_count": 47,
     "metadata": {},
     "output_type": "execute_result"
    }
   ],
   "source": [
    "list(range(0,11,2))"
   ]
  },
  {
   "cell_type": "code",
   "execution_count": 49,
   "id": "ce67aa55-fdd9-4869-be2f-00d45f292668",
   "metadata": {},
   "outputs": [
    {
     "data": {
      "text/plain": [
       "[3, 6, 9, 12, 15, 18, 21, 24, 27, 30, 33, 36, 39, 42, 45, 48]"
      ]
     },
     "execution_count": 49,
     "metadata": {},
     "output_type": "execute_result"
    }
   ],
   "source": [
    "[x for x in range(1,51) if x%3 == 0]"
   ]
  },
  {
   "cell_type": "code",
   "execution_count": 61,
   "id": "a9fda923-30e0-468c-aff2-866dda1f74c5",
   "metadata": {},
   "outputs": [
    {
     "data": {
      "text/plain": [
       "[0,\n",
       " 2,\n",
       " 4,\n",
       " 6,\n",
       " 8,\n",
       " 10,\n",
       " 12,\n",
       " 14,\n",
       " 16,\n",
       " 18,\n",
       " 20,\n",
       " 22,\n",
       " 24,\n",
       " 26,\n",
       " 28,\n",
       " 30,\n",
       " 32,\n",
       " 34,\n",
       " 36,\n",
       " 38,\n",
       " 40,\n",
       " 42,\n",
       " 44,\n",
       " 46,\n",
       " 48,\n",
       " 50,\n",
       " 52,\n",
       " 54,\n",
       " 56,\n",
       " 58,\n",
       " 60,\n",
       " 62,\n",
       " 64,\n",
       " 66,\n",
       " 68,\n",
       " 70,\n",
       " 72,\n",
       " 74,\n",
       " 76,\n",
       " 78,\n",
       " 80,\n",
       " 82,\n",
       " 84,\n",
       " 86,\n",
       " 88,\n",
       " 90,\n",
       " 92,\n",
       " 94,\n",
       " 96,\n",
       " 98,\n",
       " 100]"
      ]
     },
     "execution_count": 61,
     "metadata": {},
     "output_type": "execute_result"
    }
   ],
   "source": [
    "[num for num in range(0,101,2)]"
   ]
  },
  {
   "cell_type": "code",
   "execution_count": 63,
   "id": "78e19895-cf4f-416a-8ac5-730ad6dbb914",
   "metadata": {},
   "outputs": [
    {
     "name": "stdout",
     "output_type": "stream",
     "text": [
      "['Python', 'is', 'simple', 'and', 'powerful']\n"
     ]
    }
   ],
   "source": [
    "sentence = \"Python is simple and powerful\"\n",
    "words=[word for word in sentence.split()]\n",
    "print(words)"
   ]
  },
  {
   "cell_type": "code",
   "execution_count": 65,
   "id": "673bb0ef-d140-4b51-b937-d75b649b7b01",
   "metadata": {},
   "outputs": [
    {
     "name": "stdout",
     "output_type": "stream",
     "text": [
      "['Some', 'sentences', 'start', 'strong', 'simple']\n"
     ]
    }
   ],
   "source": [
    "sentence = \"Some sentences start strong and simple\"\n",
    "with_s = [word for word in sentence.split() if word.lower().startswith('s')]\n",
    "print(with_s)"
   ]
  },
  {
   "cell_type": "code",
   "execution_count": 67,
   "id": "1eeb9919-a972-47c3-b745-f4ec8a6f097e",
   "metadata": {},
   "outputs": [
    {
     "name": "stdout",
     "output_type": "stream",
     "text": [
      "[4, 9, 5, 6, 3, 6]\n"
     ]
    }
   ],
   "source": [
    "sentence = \"Some sentences start strong and simple\"\n",
    "length = [len(x) for x in sentence.split()]\n",
    "print(length)"
   ]
  },
  {
   "cell_type": "code",
   "execution_count": 69,
   "id": "72598921-b92c-4f23-aa1a-b30833e0de52",
   "metadata": {},
   "outputs": [
    {
     "data": {
      "text/plain": [
       "[4, 8, 12, 16, 20, 24, 28, 32, 36, 40, 44, 48]"
      ]
     },
     "execution_count": 69,
     "metadata": {},
     "output_type": "execute_result"
    }
   ],
   "source": [
    "list = [num for num in range(1,51) if num %4==0]\n",
    "list"
   ]
  },
  {
   "cell_type": "code",
   "execution_count": 71,
   "id": "7cf53c03-7638-472e-92cd-ad464e82dceb",
   "metadata": {},
   "outputs": [
    {
     "data": {
      "text/plain": [
       "['Coding', 'cool']"
      ]
     },
     "execution_count": 71,
     "metadata": {},
     "output_type": "execute_result"
    }
   ],
   "source": [
    "sen = \"Coding in Python is super cool\"\n",
    "res = [word for word in sen.split() if word.lower().startswith('c')]\n",
    "res"
   ]
  },
  {
   "cell_type": "code",
   "execution_count": 77,
   "id": "bfcf24ce-d96f-4649-a784-f3264e01ee07",
   "metadata": {},
   "outputs": [
    {
     "name": "stdout",
     "output_type": "stream",
     "text": [
      "word--->  has even length\n",
      "in--->  has even length\n",
      "this--->  has even length\n",
      "sentence--->  has even length\n",
      "that--->  has even length\n",
      "an--->  has even length\n",
      "even--->  has even length\n",
      "number--->  has even length\n",
      "of--->  has even length\n"
     ]
    }
   ],
   "source": [
    "st = 'Print every word in this sentence that has an even number of letters'\n",
    "for word in st.split():\n",
    "    if len(word)%2 ==0:\n",
    "        print(word + \"--->  has even length\")\n"
   ]
  },
  {
   "cell_type": "code",
   "execution_count": 79,
   "id": "24e7c661-1b57-46dd-8382-a2870dfdbad9",
   "metadata": {},
   "outputs": [
    {
     "data": {
      "text/plain": [
       "['C', 'a', 'l', 'o', 't', 'f', 'l', 'o', 'e', 'w', 'i', 't', 's']"
      ]
     },
     "execution_count": 79,
     "metadata": {},
     "output_type": "execute_result"
    }
   ],
   "source": [
    "st = 'Create a list of the first letters of every word in this string'\n",
    "[word[0] for word in st.split()]"
   ]
  },
  {
   "cell_type": "code",
   "execution_count": 83,
   "id": "a0b70d0c-74b3-440f-befa-b7cb5c1cd1fb",
   "metadata": {},
   "outputs": [
    {
     "name": "stdout",
     "output_type": "stream",
     "text": [
      "hello vishnu\n"
     ]
    }
   ],
   "source": [
    "def name_of_function(name):\n",
    "    print(\"hello \"+ name)\n",
    "\n",
    "name_of_function(\"vishnu\")"
   ]
  },
  {
   "cell_type": "code",
   "execution_count": null,
   "id": "953408f9-36d5-4bac-9cbc-bae4701c3491",
   "metadata": {},
   "outputs": [],
   "source": []
  }
 ],
 "metadata": {
  "kernelspec": {
   "display_name": "Python [conda env:base] *",
   "language": "python",
   "name": "conda-base-py"
  },
  "language_info": {
   "codemirror_mode": {
    "name": "ipython",
    "version": 3
   },
   "file_extension": ".py",
   "mimetype": "text/x-python",
   "name": "python",
   "nbconvert_exporter": "python",
   "pygments_lexer": "ipython3",
   "version": "3.12.7"
  }
 },
 "nbformat": 4,
 "nbformat_minor": 5
}
